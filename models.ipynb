{
  "cells": [
    {
      "cell_type": "markdown",
      "metadata": {
        "id": "VGRRINXfWqqu"
      },
      "source": [
        "# Import and Test Project"
      ]
    },
    {
      "cell_type": "code",
      "execution_count": null,
      "metadata": {
        "id": "V3DXUXwFTRLk"
      },
      "outputs": [],
      "source": [
        "! git clone https://github.com/ZurichNLP/xstance.git"
      ]
    },
    {
      "cell_type": "code",
      "execution_count": null,
      "metadata": {
        "id": "CTeahGKeTv-r"
      },
      "outputs": [],
      "source": [
        "import os\n",
        "os.chdir('xstance')"
      ]
    },
    {
      "cell_type": "code",
      "execution_count": null,
      "metadata": {
        "id": "7nNAXzV7UCjD"
      },
      "outputs": [],
      "source": [
        "! unzip data/xstance-data-v1.0.zip -d data"
      ]
    },
    {
      "cell_type": "code",
      "execution_count": null,
      "metadata": {
        "colab": {
          "base_uri": "https://localhost:8080/"
        },
        "id": "n5A4V-spUIph",
        "outputId": "94df1900-c86c-4c4e-af97-c865bdc958bf"
      },
      "outputs": [
        {
          "name": "stdout",
          "output_type": "stream",
          "text": [
            "new_comments_defr\n",
            "DE 76.83541377429334\n",
            "FR 76.61281705054353\n",
            "\n",
            "new_questions_defr\n",
            "DE 68.46881591336131\n",
            "FR 68.3831150794995\n",
            "\n",
            "new_topics_defr\n",
            "DE 68.90323152487849\n",
            "FR 70.8982523359103\n",
            "\n",
            "new_comments_it\n",
            "IT 70.19234360410832\n",
            "\n"
          ]
        }
      ],
      "source": [
        "! python evaluate.py \\\n",
        "  --gold data/test.jsonl \\\n",
        "  --pred predictions/mbert_pred.jsonl "
      ]
    },
    {
      "cell_type": "markdown",
      "metadata": {
        "id": "VvKNQaeeZ6NF"
      },
      "source": [
        "# Baseline models (Ridge and SVM)"
      ]
    },
    {
      "cell_type": "markdown",
      "metadata": {
        "id": "n5YGH-Wpo93f"
      },
      "source": [
        "## Import modules and preprocessing"
      ]
    },
    {
      "cell_type": "code",
      "execution_count": null,
      "metadata": {
        "id": "XYOlqUFAbW8O"
      },
      "outputs": [],
      "source": [
        "import numpy as np, pandas as pd\n",
        "from sklearn.feature_extraction import FeatureHasher\n",
        "from sklearn.linear_model import LogisticRegression, RidgeClassifier, SGDClassifier\n",
        "from sklearn.metrics import classification_report, confusion_matrix, accuracy_score"
      ]
    },
    {
      "cell_type": "code",
      "execution_count": null,
      "metadata": {
        "id": "SgkW-e8EZ8Pc"
      },
      "outputs": [],
      "source": [
        "# parse JSON file to panda\n",
        "training = pd.read_json(f\"data/train.jsonl\", lines=True)\n",
        "testing = pd.read_json(f\"data/test.jsonl\", lines=True)"
      ]
    },
    {
      "cell_type": "code",
      "execution_count": null,
      "metadata": {
        "id": "Wmkg1k4Dg6ot"
      },
      "outputs": [],
      "source": [
        "# create FeatureHasher object\n",
        "v = FeatureHasher()\n",
        "\n",
        "\n",
        "# clean data for X_train\n",
        "def X_train_clean(df):\n",
        "    df_copy = df.copy()\n",
        "    df_copy.drop(\n",
        "        [\"id\", \"question_id\", \"label\", \"numerical_label\", \"author\", \"topic\"],\n",
        "        axis=1,\n",
        "        inplace=True)\n",
        "    d = df_copy.to_dict('records')\n",
        "    X_train = v.fit_transform(d)\n",
        "    return X_train\n",
        "\n",
        "\n",
        "# clean data for X_test\n",
        "def X_test_clean(df):\n",
        "    df_copy = df.copy()\n",
        "    df_copy.drop([\n",
        "        \"id\", \"question_id\", \"numerical_label\", \"label\", \"author\", \"topic\",\n",
        "        \"test_set\"\n",
        "    ],\n",
        "                 axis=1,\n",
        "                 inplace=True)\n",
        "    d = df_copy.to_dict('records')\n",
        "    X_test = v.fit_transform(d)\n",
        "    return X_test\n"
      ]
    },
    {
      "cell_type": "code",
      "execution_count": null,
      "metadata": {
        "id": "JVfmkRMlf9KN"
      },
      "outputs": [],
      "source": [
        "# vectorize and define train and test splits\n",
        "y_train = training.label.values\n",
        "y_test = testing.label.values\n",
        "X_train = X_train_clean(training)\n",
        "X_test = X_test_clean(testing)"
      ]
    },
    {
      "cell_type": "code",
      "execution_count": null,
      "metadata": {
        "colab": {
          "base_uri": "https://localhost:8080/"
        },
        "id": "twWKlppycBwD",
        "outputId": "c25cedda-b03f-4edc-e2b9-ede85ae43af2"
      },
      "outputs": [
        {
          "name": "stdout",
          "output_type": "stream",
          "text": [
            "The shape of X_train: (45640, 1048576)\n",
            "The shape of y_train: (45640,)\n"
          ]
        }
      ],
      "source": [
        "# Check training data\n",
        "print(\"The shape of X_train: {}\".format(X_train.shape))\n",
        "print(\"The shape of y_train: {}\".format(y_train.shape))"
      ]
    },
    {
      "cell_type": "code",
      "execution_count": null,
      "metadata": {
        "colab": {
          "base_uri": "https://localhost:8080/"
        },
        "id": "fKPNgVd7csMs",
        "outputId": "99ab451b-40c3-44b2-adc9-c5a3b2636e8e"
      },
      "outputs": [
        {
          "data": {
            "text/plain": [
              "<45640x1048576 sparse matrix of type '<class 'numpy.float64'>'\n",
              "\twith 136920 stored elements in Compressed Sparse Row format>"
            ]
          },
          "execution_count": 62,
          "metadata": {},
          "output_type": "execute_result"
        }
      ],
      "source": [
        "X_train"
      ]
    },
    {
      "cell_type": "code",
      "execution_count": null,
      "metadata": {
        "colab": {
          "base_uri": "https://localhost:8080/"
        },
        "id": "uzVF7Zquc-Jc",
        "outputId": "42b2b09e-0eb9-43d5-ed8d-3e468e310891"
      },
      "outputs": [
        {
          "data": {
            "text/plain": [
              "array(['AGAINST', 'FAVOR', 'FAVOR', ..., 'AGAINST', 'AGAINST', 'AGAINST'],\n",
              "      dtype=object)"
            ]
          },
          "execution_count": 63,
          "metadata": {},
          "output_type": "execute_result"
        }
      ],
      "source": [
        "y_train"
      ]
    },
    {
      "cell_type": "markdown",
      "metadata": {
        "id": "DyKXCU5rpDLA"
      },
      "source": [
        "## Model training and prediction"
      ]
    },
    {
      "cell_type": "code",
      "execution_count": null,
      "metadata": {
        "colab": {
          "base_uri": "https://localhost:8080/"
        },
        "id": "9v6EaGaGhcxM",
        "outputId": "fff52de7-5966-474c-de42-b24f532de2e4"
      },
      "outputs": [
        {
          "name": "stdout",
          "output_type": "stream",
          "text": [
            "              precision    recall  f1-score   support\n",
            "\n",
            "     AGAINST       0.58      0.21      0.31      8542\n",
            "       FAVOR       0.54      0.86      0.66      9163\n",
            "\n",
            "    accuracy                           0.54     17705\n",
            "   macro avg       0.56      0.53      0.48     17705\n",
            "weighted avg       0.56      0.54      0.49     17705\n",
            "\n"
          ]
        }
      ],
      "source": [
        "# define (linear) ridge classifier\n",
        "ridge = RidgeClassifier(\n",
        "    max_iter=1000\n",
        ")  # https://scikit-learn.org/stable/modules/generated/sklearn.linear_model.RidgeClassifier.html#sklearn.linear_model.RidgeClassifier\n",
        "\n",
        "# train the model\n",
        "ridge.fit(X_train, y_train)\n",
        "\n",
        "classifier_res = classification_report(y_pred=ridge.predict(X_test),\n",
        "                                       y_true=y_test)\n",
        "print(classifier_res)\n"
      ]
    },
    {
      "cell_type": "code",
      "execution_count": null,
      "metadata": {
        "colab": {
          "base_uri": "https://localhost:8080/"
        },
        "id": "9arFCZufpqci",
        "outputId": "cdfa6464-e7d3-494c-a03a-a3dfacc634c9"
      },
      "outputs": [
        {
          "name": "stdout",
          "output_type": "stream",
          "text": [
            "              precision    recall  f1-score   support\n",
            "\n",
            "     AGAINST       0.58      0.21      0.30      8542\n",
            "       FAVOR       0.54      0.86      0.66      9163\n",
            "\n",
            "    accuracy                           0.54     17705\n",
            "   macro avg       0.56      0.53      0.48     17705\n",
            "weighted avg       0.56      0.54      0.49     17705\n",
            "\n"
          ]
        }
      ],
      "source": [
        "# define SVM\n",
        "svm = SGDClassifier(\n",
        "    max_iter=1000\n",
        ")  # https://scikit-learn.org/stable/modules/generated/sklearn.linear_model.SGDClassifier.html\n",
        "\n",
        "# train the model\n",
        "SVM_pred = svm.fit(X_train, y_train)\n",
        "\n",
        "classifier_res = classification_report(y_pred=svm.predict(X_test),\n",
        "                                       y_true=y_test)\n",
        "print(classifier_res)"
      ]
    },
    {
      "cell_type": "code",
      "execution_count": null,
      "metadata": {
        "id": "ibZLtGJJl1uf"
      },
      "outputs": [],
      "source": [
        "# save predictions\n",
        "ridge_pred = ridge.predict(X_test)\n",
        "svm_pred = svm.predict(X_test)"
      ]
    },
    {
      "cell_type": "code",
      "execution_count": null,
      "metadata": {
        "id": "zD_KDtWfk779"
      },
      "outputs": [],
      "source": [
        "# annotate predictions to original df and convert to JSON\n",
        "\n",
        "# Ridge\n",
        "ridge_pred = pd.DataFrame(ridge_pred, columns=['label'])\n",
        "ridge_pred.to_json(f\"predictions/ridge_pred.jsonl\",\n",
        "                   orient='records',\n",
        "                   lines=True)\n",
        "\n",
        "svm_pred = pd.DataFrame(svm_pred, columns=['label'])\n",
        "svm_pred.to_json(f\"predictions/svm_pred.jsonl\", orient='records', lines=True)"
      ]
    },
    {
      "cell_type": "markdown",
      "metadata": {
        "id": "5rmIF5Jno4st"
      },
      "source": [
        "## Evaluation of Ridge and SVM"
      ]
    },
    {
      "cell_type": "code",
      "execution_count": null,
      "metadata": {
        "colab": {
          "base_uri": "https://localhost:8080/"
        },
        "id": "2qCG_vuroTav",
        "outputId": "4be713c3-6aba-4cae-9748-22c4fafc9eec"
      },
      "outputs": [
        {
          "name": "stdout",
          "output_type": "stream",
          "text": [
            "new_comments_defr\n",
            "DE 61.21553079380817\n",
            "FR 67.00769932649966\n",
            "\n",
            "new_questions_defr\n",
            "DE 37.48958844018237\n",
            "FR 40.357913286543315\n",
            "\n",
            "new_topics_defr\n",
            "DE 34.70408897808929\n",
            "FR 47.658248306490144\n",
            "\n",
            "new_comments_it\n",
            "IT 36.30933912503878\n",
            "\n"
          ]
        }
      ],
      "source": [
        "# evaluate Ridge using allennlp\n",
        "os.chdir('xstance')\n",
        "! python evaluate.py \\\n",
        "  --gold data/test.jsonl \\\n",
        "  --pred predictions/ridge_pred.jsonl "
      ]
    },
    {
      "cell_type": "code",
      "execution_count": null,
      "metadata": {
        "colab": {
          "base_uri": "https://localhost:8080/"
        },
        "id": "b3LCDKtbohcD",
        "outputId": "13543fac-641a-44d7-e287-18d6c997c25d"
      },
      "outputs": [
        {
          "name": "stdout",
          "output_type": "stream",
          "text": [
            "new_comments_defr\n",
            "DE 61.49409370657138\n",
            "FR 67.05354612414558\n",
            "\n",
            "new_questions_defr\n",
            "DE 37.48958844018237\n",
            "FR 40.13281278176507\n",
            "\n",
            "new_topics_defr\n",
            "DE 34.70408897808929\n",
            "FR 45.33830134445258\n",
            "\n",
            "new_comments_it\n",
            "IT 36.30933912503878\n",
            "\n"
          ]
        }
      ],
      "source": [
        "# evaluate SVM using allennlp\n",
        "! python evaluate.py \\\n",
        "  --gold data/test.jsonl \\\n",
        "  --pred predictions/svm_pred.jsonl "
      ]
    },
    {
      "cell_type": "markdown",
      "metadata": {
        "id": "z2mkEH9wARQY"
      },
      "source": [
        "# fastText"
      ]
    },
    {
      "cell_type": "code",
      "execution_count": null,
      "metadata": {
        "id": "_w7SD6XM9WEb"
      },
      "outputs": [],
      "source": [
        "! pip install -r fasttext_baseline/requirements.txt"
      ]
    },
    {
      "cell_type": "code",
      "execution_count": null,
      "metadata": {
        "id": "L4MgfNKv9lvU"
      },
      "outputs": [],
      "source": [
        "import os\n",
        "os.chdir('xstance/fasttext_baseline')\n",
        "! wget http://www.statmt.org/europarl/v7/tools.tgz\n",
        "! tar -xvf tools.tgz"
      ]
    },
    {
      "cell_type": "markdown",
      "metadata": {
        "id": "HmO7v_DX9sk9"
      },
      "source": [
        "## Training and Predicting"
      ]
    },
    {
      "cell_type": "code",
      "execution_count": null,
      "metadata": {
        "id": "zn-aL3xa9vav"
      },
      "outputs": [],
      "source": [
        "! python run.py --data-dir ../data --pred ../predictions/mypred.jsonl"
      ]
    },
    {
      "cell_type": "markdown",
      "metadata": {
        "id": "Mh5YfjVJ_O2x"
      },
      "source": [
        "## Evaluating"
      ]
    },
    {
      "cell_type": "code",
      "execution_count": null,
      "metadata": {
        "colab": {
          "base_uri": "https://localhost:8080/"
        },
        "id": "0LzvvFCe_Qse",
        "outputId": "a4eb67ab-af20-4eb0-8226-e0121f0a4166"
      },
      "outputs": [
        {
          "name": "stdout",
          "output_type": "stream",
          "text": [
            "new_comments_defr\n",
            "DE 69.36650351625285\n",
            "FR 71.44808401937091\n",
            "\n",
            "new_questions_defr\n",
            "DE 62.072051496361944\n",
            "FR 62.69540264483374\n",
            "\n",
            "new_topics_defr\n",
            "DE 62.83243113804262\n",
            "FR 63.36653804761529\n",
            "\n",
            "new_comments_it\n",
            "IT 47.57809069811202\n",
            "\n"
          ]
        }
      ],
      "source": [
        "os.chdir('..')\n",
        "! python evaluate.py \\\n",
        "  --gold data/test.jsonl \\\n",
        "  --pred predictions/mypred.jsonl "
      ]
    },
    {
      "cell_type": "markdown",
      "metadata": {
        "id": "J_gJ-2L1AaKD"
      },
      "source": [
        "# M-BERT"
      ]
    },
    {
      "cell_type": "code",
      "execution_count": null,
      "metadata": {
        "id": "-0l9-FCr7Z2S"
      },
      "outputs": [],
      "source": [
        "! pip install -r mbert_baseline/requirements.txt"
      ]
    },
    {
      "cell_type": "code",
      "execution_count": null,
      "metadata": {
        "id": "H0epnvJSEx53"
      },
      "outputs": [],
      "source": [
        "! pip install allennlp==0.9.0"
      ]
    },
    {
      "cell_type": "markdown",
      "metadata": {
        "id": "Pw-S6etK8bXW"
      },
      "source": [
        "## Training"
      ]
    },
    {
      "cell_type": "code",
      "execution_count": null,
      "metadata": {
        "id": "yIY01PqQ7t8i"
      },
      "outputs": [],
      "source": [
        "# os.chdir('mbert_baseline')\n",
        "! allennlp train mbert.jsonnet \\\n",
        "    --include-package allennlp_xstance \\\n",
        "    -s mymodel"
      ]
    },
    {
      "cell_type": "markdown",
      "metadata": {
        "id": "TX7HMV6g8eA3"
      },
      "source": [
        "## Predicting"
      ]
    },
    {
      "cell_type": "code",
      "execution_count": null,
      "metadata": {
        "id": "Ya6c0Xqg8f4X"
      },
      "outputs": [],
      "source": [
        "! allennlp predict mymodel ../data/test.jsonl \\\n",
        "    --include-package allennlp_xstance \\\n",
        "    --predictor xstance_predictor \\\n",
        "    --cuda-device 0 \\\n",
        "    --output-file ../predictions/mypred.jsonl"
      ]
    },
    {
      "cell_type": "markdown",
      "metadata": {
        "id": "eEE0ZdLG8koV"
      },
      "source": [
        "## Evaluating"
      ]
    },
    {
      "cell_type": "code",
      "execution_count": null,
      "metadata": {
        "colab": {
          "base_uri": "https://localhost:8080/"
        },
        "id": "ThM0mfwg8miM",
        "outputId": "16d82f75-aad7-427b-cb84-850bd778f0f6"
      },
      "outputs": [
        {
          "name": "stdout",
          "output_type": "stream",
          "text": [
            "new_comments_defr\n",
            "DE 76.57372034075941\n",
            "FR 78.1281406729466\n",
            "\n",
            "new_questions_defr\n",
            "DE 66.7194473755726\n",
            "FR 68.87641217539657\n",
            "\n",
            "new_topics_defr\n",
            "DE 67.95964871077341\n",
            "FR 69.37265503399688\n",
            "\n",
            "new_comments_it\n",
            "IT 70.70115967885815\n",
            "\n"
          ]
        }
      ],
      "source": [
        "os.chdir('..')\n",
        "! python evaluate.py \\\n",
        "  --gold data/test.jsonl \\\n",
        "  --pred predictions/mypred.jsonl "
      ]
    }
  ],
  "metadata": {
    "colab": {
      "collapsed_sections": [],
      "provenance": []
    },
    "kernelspec": {
      "display_name": "Python 3.9.7 ('base')",
      "language": "python",
      "name": "python3"
    },
    "language_info": {
      "name": "python",
      "version": "3.9.7"
    },
    "vscode": {
      "interpreter": {
        "hash": "b9930f120c565f82d63d3db0a3a00ce51549603f2791dc6d2f2f3bc9dd3e78f4"
      }
    }
  },
  "nbformat": 4,
  "nbformat_minor": 0
}
